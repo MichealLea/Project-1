{
 "cells": [
  {
   "cell_type": "markdown",
   "metadata": {},
   "source": [
    "# Multi-dataset, Multi-Model, Transform Learning Demo\n",
    "- This demo has CIFAR-10, ImageNet, Hymenoptera datasets \n",
    "- And ResNet18, ResNet19, AlexNet, VGG, PlainNet models.\n",
    "- Could choice fine tuning or feature extract."
   ]
  },
  {
   "cell_type": "markdown",
   "metadata": {},
   "source": [
    "# Bunch of Setups"
   ]
  },
  {
   "cell_type": "code",
   "execution_count": 1,
   "metadata": {},
   "outputs": [
    {
     "name": "stdout",
     "output_type": "stream",
     "text": [
      "Torchvision Version:  0.5.0\n"
     ]
    }
   ],
   "source": [
    "# import compute module\n",
    "import numpy as np\n",
    "import torch\n",
    "import torch.nn as nn\n",
    "import torchvision\n",
    "from torchvision import datasets, models, transforms\n",
    "\n",
    "# import plot module\n",
    "import matplotlib.pyplot as plt\n",
    "import time\n",
    "import os\n",
    "import copy\n",
    "\n",
    "device = torch.device(\"cuda\" if torch.cuda.is_available() else \"cpu\") # Training Device Depends on Your hardware.\n",
    "\n",
    "print(\"Torchvision Version: \",torchvision.__version__)"
   ]
  },
  {
   "cell_type": "markdown",
   "metadata": {},
   "source": [
    "# Main Parameters and Hyperparameters \n",
    "- data_dir \n",
    "- num_classes, batch_size, num_epochs \n",
    "- feature_extract \n",
    "- model_name\n",
    "- input_size "
   ]
  },
  {
   "cell_type": "code",
   "execution_count": 3,
   "metadata": {},
   "outputs": [],
   "source": [
    "batch_size, num_epochs = 4, 100\n",
    "feature_extract = True"
   ]
  },
  {
   "cell_type": "code",
   "execution_count": 4,
   "metadata": {},
   "outputs": [
    {
     "name": "stdout",
     "output_type": "stream",
     "text": [
      "Which modele you want train? \n",
      "ResNet18, ResNet152, AlexNet, VGG19, DenseNet121 models\n",
      "Please input the model name same above: VGG19\n"
     ]
    }
   ],
   "source": [
    "print(\"Which modele you want train? \")\n",
    "print(\"ResNet18, ResNet152, AlexNet, VGG19, DenseNet121 models\")\n",
    "model_name = input(\"Please input the model name same above: \")"
   ]
  },
  {
   "cell_type": "code",
   "execution_count": 5,
   "metadata": {},
   "outputs": [
    {
     "name": "stdout",
     "output_type": "stream",
     "text": [
      "Which dataset you want train? (ImageNet is not avalible) \n",
      "CIFAR-10, ImageNet, Hymenoptera\n",
      "Please input the name of dataset from below: CIFAR-10\n"
     ]
    }
   ],
   "source": [
    "print(\"Which dataset you want train? (ImageNet is not avalible) \")\n",
    "print(\"CIFAR-10, ImageNet, Hymenoptera\")\n",
    "name_dataset = input(\"Please input the name of dataset from below: \")\n",
    "if name_dataset=='Hymenoptera':\n",
    "    data_dir, num_classes, input_size= \"./hymenoptera_data\", 2, 224\n",
    "elif name_dataset=='CIFAR-10':\n",
    "    data_dir, num_classes, input_size = \"./CIFAR10_data\", 10, 32\n",
    "elif name_dataset=='ImageNet':\n",
    "    data_dir, num_classes, input_size = \"./Image_data\", 1000, 32"
   ]
  },
  {
   "cell_type": "markdown",
   "metadata": {},
   "source": [
    "# Dataload Function with Preprocess\n",
    "- std and mean per channel function\n",
    "- Batch Normaliszation\n",
    "- Random Horizon Flip\n",
    "- Random Resize"
   ]
  },
  {
   "cell_type": "code",
   "execution_count": 6,
   "metadata": {},
   "outputs": [],
   "source": [
    "# Extract mean and std for training dataset for each channel.\n",
    "def stdandmean(data_dir, batch_size, shuffle=True, num_workers=4):\n",
    "    '''\n",
    "    input: data_dir, batch_size, shuffle=True, num_workers=4\n",
    "    return: mean, std\n",
    "    '''\n",
    "    mean = []\n",
    "    std = []\n",
    "    \n",
    "    data_transform = {\n",
    "        \"train\": transforms.Compose([\n",
    "            transforms.RandomResizedCrop(input_size), #将图片裁剪成指定尺寸\n",
    "            transforms.RandomHorizontalFlip(), #随机翻转图片\n",
    "            transforms.ToTensor(),\n",
    "        ]),\n",
    "    }\n",
    "    \n",
    "    if name_dataset=='CIFAR-10':\n",
    "        img_datasets = datasets.CIFAR10(data_dir, train=True, download=True, transform=data_transform[\"train\"])\n",
    "    else:\n",
    "        img_datasets = datasets.ImageFolder(os.path.join(data_dir), data_transform[\"train\"])  \n",
    "        \n",
    "    arr_data = [d[0].data.numpy() for d in img_datasets]\n",
    "    \n",
    "    for i in range(3):\n",
    "        mm = [d[i,:,:] for d in arr_data]\n",
    "        stdd = [d[i,:,:] for d in arr_data]\n",
    "        mean.append(np.mean(mm))\n",
    "        std.append(np.std(stdd))\n",
    "        \n",
    "    return mean, std\n"
   ]
  },
  {
   "cell_type": "code",
   "execution_count": 7,
   "metadata": {},
   "outputs": [
    {
     "name": "stdout",
     "output_type": "stream",
     "text": [
      "Files already downloaded and verified\n",
      "[0.48999745, 0.47329083, 0.4372805]\n",
      "[0.23513092, 0.23149233, 0.24761415]\n"
     ]
    }
   ],
   "source": [
    "# Transfrom Compact\n",
    "mean, std = stdandmean(data_dir, batch_size)\n",
    "data_transform = {\n",
    "    \"train\": transforms.Compose([\n",
    "        transforms.RandomResizedCrop(input_size), #将图片裁剪成指定尺寸\n",
    "        transforms.RandomHorizontalFlip(), #随机翻转图片\n",
    "        transforms.ToTensor(),\n",
    "        transforms.Normalize(mean, std)\n",
    "    ]),\n",
    "    \"val\": transforms.Compose([\n",
    "        transforms.Resize(input_size), #将图片裁剪成指定尺寸\n",
    "        transforms.CenterCrop(input_size), # Center Crop the Image.\n",
    "        transforms.ToTensor(),\n",
    "        transforms.Normalize(mean, std)\n",
    "    ])\n",
    "}\n",
    "print(mean)\n",
    "print(std)"
   ]
  },
  {
   "cell_type": "code",
   "execution_count": 8,
   "metadata": {},
   "outputs": [
    {
     "name": "stdout",
     "output_type": "stream",
     "text": [
      "Files already downloaded and verified\n",
      "Files already downloaded and verified\n"
     ]
    }
   ],
   "source": [
    "# Load Data\n",
    "if name_dataset=='CIFAR-10':\n",
    "    train_dataloader = torch.utils.data.DataLoader(\n",
    "        datasets.CIFAR10(data_dir, train=True, download=True,transform=data_transform[\"val\"]), \n",
    "        batch_size=batch_size, shuffle=True, num_workers=0, pin_memory=True\n",
    "    )\n",
    "    test_dataloader = torch.utils.data.DataLoader(\n",
    "        datasets.CIFAR10(\n",
    "            data_dir, train=False, download=True,transform=data_transform[\"train\"]), \n",
    "        batch_size=batch_size, shuffle=True, num_workers=0, pin_memory=True\n",
    "    )\n",
    "\n",
    "    dataloaders_dict = {\"train\": train_dataloader\n",
    "                        , \"val\": test_dataloader}\n",
    "else:\n",
    "    img_datasets = {x: datasets.ImageFolder(os.path.join(data_dir), data_transform[x]) for x in [\"train\", \"val\"]}\n",
    "    dataloaders_dict = {x: torch.utils.data.DataLoader(img_datasets[x], batch_size=batch_size, shuffle=True, num_workers=4) for x in [\"train\", \"val\"]}"
   ]
  },
  {
   "cell_type": "markdown",
   "metadata": {},
   "source": [
    "# Initialization of Modle\n",
    "- model list: ResNet18, ResNet152, AlexNet, VGG19, DenseNet201"
   ]
  },
  {
   "cell_type": "code",
   "execution_count": 10,
   "metadata": {},
   "outputs": [],
   "source": [
    "def set_parameter_requires_grad(model, feature_extract):\n",
    "    \"\"\"\n",
    "    model\n",
    "      A Neural Network model comes from torchvision.model .\n",
    "    feature_extrace = True or False.\n",
    "    It means change a parts of weights while training, istead of entire model's weights.\n",
    "    \n",
    "    This function do nothing while feature_extrace = False.\n",
    "    \"\"\"\n",
    "    if feature_extract:\n",
    "        for param in model.parameters():\n",
    "            param.requires_grad = False # Set all parameters in model no update.\n",
    "            \n",
    "def initialize_model(model_name, num_classes, feature_extract, use_pretrained=True): \n",
    "    \"\"\"\n",
    "    model_name: \n",
    "      ResNet18, ResNet152, AlexNet, VGG19, DenseNet201 \n",
    "    num_classes:\n",
    "      The number of classes in your dataset.\n",
    "    feature_extrace: \n",
    "      use_pretrained = True or False. \n",
    "      It means the model you get had or hadn'd been trained.\n",
    "    \n",
    "    model_ft is a model(Pretrained=True)\n",
    "    \n",
    "    \"\"\"\n",
    "    if model_name == \"ResNet18\":\n",
    "        model_ft = models.resnet18(pretrained=use_pretrained) # models.resnet18(pretrainen=False, progress=True)\n",
    "        set_parameter_requires_grad(model_ft, feature_extract) \n",
    "        \n",
    "        num_ftrs = model_ft.fc.in_features # model_ft.fc就是模型之中全部fc层，in_features 拿出参数\n",
    "        model_ft.fc = nn.Linear(num_ftrs, num_classes) \n",
    "        \n",
    "    elif model_name == \"ResNet152\":\n",
    "        model_ft = models.resnet152(pretrained=use_pretrained) # models.resnet18(pretrainen=False, progress=True)\n",
    "        set_parameter_requires_grad(model_ft, feature_extract) \n",
    "        \n",
    "        num_ftrs = model_ft.fc.in_features # model_ft.fc就是模型之中全部fc层，in_features 拿出参数\n",
    "        model_ft.fc = nn.Linear(num_ftrs, num_classes)\n",
    "    \n",
    "    elif model_name == \"AlexNet\":\n",
    "        model_ft = models.alexnet(pretrained=use_pretrained) \n",
    "        set_parameter_requires_grad(model_ft, feature_extract) \n",
    "        \n",
    "        num_ftrs = model_ft.classifier[6].in_features \n",
    "        model_ft.classifier[6] = nn.Linear(num_ftrs, num_classes)  \n",
    "        \n",
    "    elif model_name == \"VGG19\":\n",
    "        model_ft = models.vgg19(pretrained=use_pretrained) \n",
    "        set_parameter_requires_grad(model_ft, feature_extract) \n",
    "        \n",
    "        num_ftrs = model_ft.classifier[6].in_features \n",
    "        model_ft.classifier[6] = nn.Linear(num_ftrs, num_classes)  \n",
    "    \n",
    "    elif model_name == \"DenseNet121\":\n",
    "        model_ft = models.densenet121(pretrained=use_pretrained)\n",
    "        set_parameter_requires_grad(model_ft, feature_extract) \n",
    "        \n",
    "        num_ftrs = model_ft.classifier.in_features \n",
    "        model_ft.classifier = nn.Linear(num_ftrs, num_classes)\n",
    "    else:\n",
    "        print(\"model not implemented\")\n",
    "        return None, None\n",
    "        \n",
    "    return model_ft"
   ]
  },
  {
   "cell_type": "markdown",
   "metadata": {},
   "source": [
    "# Define train progress Funtion contained Train & Test\n",
    "- model which all ready inited.\n",
    "- Train and Val Dataloader dataset\n",
    "- loss function\n",
    "- optimizer\n",
    "- num of epochs, init to 5"
   ]
  },
  {
   "cell_type": "code",
   "execution_count": 11,
   "metadata": {},
   "outputs": [],
   "source": [
    "#def train_model(model, dataloaders, loss_fn, optimizer, num_epochs=5):\n",
    "def train_model(model, dataloaders, loss_fn, lr=0.1, num_epochs=5):\n",
    "    optimizer = torch.optim.SGD(filter(lambda p: p.requires_grad, model.parameters()), lr=lr, momentum=0.9)\n",
    "    \n",
    "    best_model_wts = copy.deepcopy(model.state_dict()) # init the best_weights data.\n",
    "    best_acc = 0. # init best accuracy as 0.\n",
    "    val_acc_history = [] # Creat a list contrains accuracy history data.\n",
    "    val_loss_history = [] # Creat a list contrains training loss history data.\n",
    "    lr_history = [] # learning rate history\n",
    "    val_error = []\n",
    "    \n",
    "    for epoch in range(num_epochs): # For each process epochs.\n",
    "        for phase in [\"train\", \"val\"]: # Train and Val phase.\n",
    "            running_loss = 0. \n",
    "            running_corrects = 0.\n",
    "            if phase == \"train\":\n",
    "                model.train()\n",
    "            else:\n",
    "                model.eval()\n",
    "                \n",
    "            for inputs, labels in dataloaders[phase]: # Gain the input datas and labels.\n",
    "                inputs, labels = inputs.to(device), labels.to(device) # Remove datas and labels to CUDA capable device.\n",
    "                \n",
    "                with torch.autograd.set_grad_enabled(phase==\"train\"): # if training phase, requeire the grad.\n",
    "                    outputs = model(inputs) # bsize * 2\n",
    "                    loss = loss_fn(outputs, labels) \n",
    "                    \n",
    "                preds = outputs.argmax(dim=1) # The prediction of training process.\n",
    "                if phase == \"train\": # ipdata the weight.\n",
    "                    optimizer.zero_grad()\n",
    "                    loss.backward()\n",
    "                    optimizer.step()\n",
    "                    \n",
    "                running_loss += loss.item() * inputs.size(0)\n",
    "                running_corrects += torch.sum(preds.view(-1) == labels.view(-1)).item()\n",
    "                \n",
    "            epoch_loss = running_loss / len(dataloaders[phase].dataset)\n",
    "            epoch_acc = running_corrects / len(dataloaders[phase].dataset)\n",
    "            epoch_error = 1 - epoch_acc\n",
    "            \n",
    "            print(\"Epoch:{}, Phase: {}, loss: {}, acc: {}, error: {}\".format(epoch+1, phase, epoch_loss, epoch_acc,epoch_error))\n",
    "            \n",
    "            \n",
    "            if phase == \"val\" and epoch_acc > best_acc: # save the best weights.\n",
    "                best_acc = epoch_acc\n",
    "                best_model_wts = copy.deepcopy(model.state_dict())\n",
    "                \n",
    "            if phase == \"val\":  # Save val accuracy and loss history.\n",
    "                val_acc_history.append(epoch_acc)\n",
    "                val_loss_history.append(epoch_loss)\n",
    "                val_error.append(epoch_error)\n",
    "                lr_history.append(lr)\n",
    "                \n",
    "            grad_val_acc = 1e4\n",
    "            print(\"lr: {}\".format(lr))\n",
    "            \n",
    "            # Update optimizer\n",
    "            if phase ==\"val\" and epoch > 2:\n",
    "                grad_val_acc = np.abs((val_acc_history[epoch-1] - val_acc_history[epoch]) / 2)\n",
    "                if lr==0.1 and 0 < grad_val_acc < 0.01:\n",
    "                    lr /= 10\n",
    "                elif lr==0.01 and 0 < grad_val_acc < 0.002:\n",
    "                    lr /= 10\n",
    "                elif lr==0.001 and 0 < grad_val_acc < 0.0009:\n",
    "                    lr /= 10\n",
    "                optimizer = torch.optim.SGD(filter(lambda p: p.requires_grad, model.parameters()), lr=lr, momentum=0.9)\n",
    "            \n",
    "            if grad_val_acc != 1e4:\n",
    "                print(\"grad_val_acc: {}\".format(grad_val_acc))  \n",
    "            torch.cuda.empty_cache()\n",
    "    \n",
    "    model.load_state_dict(best_model_wts)    # best model.\n",
    "    \n",
    "    return model, val_acc_history, val_loss_history, val_error, lr_history"
   ]
  },
  {
   "cell_type": "code",
   "execution_count": 12,
   "metadata": {},
   "outputs": [
    {
     "name": "stdout",
     "output_type": "stream",
     "text": [
      "Epoch:1, Phase: train, loss: 1034.6090930975533, acc: 0.46162, error: 0.5383800000000001\n",
      "lr: 0.1\n",
      "Epoch:1, Phase: val, loss: 857.953864666748, acc: 0.4583, error: 0.5417000000000001\n",
      "lr: 0.1\n",
      "Epoch:2, Phase: train, loss: 1165.8955349975586, acc: 0.48694, error: 0.5130600000000001\n",
      "lr: 0.1\n",
      "Epoch:2, Phase: val, loss: 940.3289299041749, acc: 0.465, error: 0.5349999999999999\n",
      "lr: 0.1\n",
      "Epoch:3, Phase: train, loss: 1179.643141871338, acc: 0.49362, error: 0.50638\n",
      "lr: 0.1\n",
      "Epoch:3, Phase: val, loss: 949.8050548034668, acc: 0.4737, error: 0.5263\n",
      "lr: 0.1\n",
      "Epoch:4, Phase: train, loss: 1200.3011462597656, acc: 0.4964, error: 0.5036\n",
      "lr: 0.1\n",
      "Epoch:4, Phase: val, loss: 1046.4555725097657, acc: 0.462, error: 0.538\n",
      "lr: 0.1\n",
      "grad_val_acc: 0.005849999999999994\n",
      "Epoch:5, Phase: train, loss: 882.5097934423828, acc: 0.532, error: 0.46799999999999997\n",
      "lr: 0.01\n",
      "Epoch:5, Phase: val, loss: 710.7036253570557, acc: 0.4959, error: 0.5041\n",
      "lr: 0.01\n",
      "grad_val_acc: 0.016949999999999993\n",
      "Epoch:6, Phase: train, loss: 700.7669630114746, acc: 0.54274, error: 0.45726\n",
      "lr: 0.01\n",
      "Epoch:6, Phase: val, loss: 595.0731038635254, acc: 0.5066, error: 0.49339999999999995\n",
      "lr: 0.01\n",
      "grad_val_acc: 0.005350000000000021\n",
      "Epoch:7, Phase: train, loss: 586.9106851251221, acc: 0.54574, error: 0.45426\n",
      "lr: 0.01\n",
      "Epoch:7, Phase: val, loss: 517.5685355743408, acc: 0.4989, error: 0.5011\n",
      "lr: 0.01\n",
      "grad_val_acc: 0.00385000000000002\n",
      "Epoch:8, Phase: train, loss: 512.845282658081, acc: 0.54962, error: 0.45038\n",
      "lr: 0.01\n",
      "Epoch:8, Phase: val, loss: 482.22371031188965, acc: 0.4974, error: 0.5025999999999999\n",
      "lr: 0.01\n",
      "grad_val_acc: 0.0007500000000000007\n"
     ]
    },
    {
     "ename": "KeyboardInterrupt",
     "evalue": "",
     "output_type": "error",
     "traceback": [
      "\u001b[1;31m---------------------------------------------------------------------------\u001b[0m",
      "\u001b[1;31mKeyboardInterrupt\u001b[0m                         Traceback (most recent call last)",
      "\u001b[1;32m<ipython-input-12-36f72f650f16>\u001b[0m in \u001b[0;36m<module>\u001b[1;34m\u001b[0m\n\u001b[0;32m      7\u001b[0m \u001b[0mloss_fn\u001b[0m \u001b[1;33m=\u001b[0m \u001b[0mnn\u001b[0m\u001b[1;33m.\u001b[0m\u001b[0mCrossEntropyLoss\u001b[0m\u001b[1;33m(\u001b[0m\u001b[1;33m)\u001b[0m\u001b[1;33m\u001b[0m\u001b[1;33m\u001b[0m\u001b[0m\n\u001b[0;32m      8\u001b[0m \u001b[1;33m\u001b[0m\u001b[0m\n\u001b[1;32m----> 9\u001b[1;33m \u001b[0m_\u001b[0m\u001b[1;33m,\u001b[0m \u001b[0macc_hist\u001b[0m\u001b[1;33m,\u001b[0m \u001b[0mloss_hist\u001b[0m\u001b[1;33m,\u001b[0m \u001b[0merr_hist\u001b[0m\u001b[1;33m,\u001b[0m \u001b[0mlr_hist\u001b[0m \u001b[1;33m=\u001b[0m \u001b[0mtrain_model\u001b[0m\u001b[1;33m(\u001b[0m\u001b[0mmodel_ft\u001b[0m\u001b[1;33m,\u001b[0m \u001b[0mdataloaders_dict\u001b[0m\u001b[1;33m,\u001b[0m \u001b[0mloss_fn\u001b[0m\u001b[1;33m,\u001b[0m \u001b[0mlr\u001b[0m\u001b[1;33m=\u001b[0m\u001b[1;36m0.1\u001b[0m\u001b[1;33m,\u001b[0m \u001b[0mnum_epochs\u001b[0m\u001b[1;33m=\u001b[0m\u001b[0mnum_epochs\u001b[0m\u001b[1;33m)\u001b[0m\u001b[1;33m\u001b[0m\u001b[1;33m\u001b[0m\u001b[0m\n\u001b[0m\u001b[0;32m     10\u001b[0m \u001b[1;31m# return model, val_acc_history, val_loss_history, val_error, lr_history\u001b[0m\u001b[1;33m\u001b[0m\u001b[1;33m\u001b[0m\u001b[1;33m\u001b[0m\u001b[0m\n",
      "\u001b[1;32m<ipython-input-11-5d3dbe231702>\u001b[0m in \u001b[0;36mtrain_model\u001b[1;34m(model, dataloaders, loss_fn, lr, num_epochs)\u001b[0m\n\u001b[0;32m     32\u001b[0m                     \u001b[0moptimizer\u001b[0m\u001b[1;33m.\u001b[0m\u001b[0mstep\u001b[0m\u001b[1;33m(\u001b[0m\u001b[1;33m)\u001b[0m\u001b[1;33m\u001b[0m\u001b[1;33m\u001b[0m\u001b[0m\n\u001b[0;32m     33\u001b[0m \u001b[1;33m\u001b[0m\u001b[0m\n\u001b[1;32m---> 34\u001b[1;33m                 \u001b[0mrunning_loss\u001b[0m \u001b[1;33m+=\u001b[0m \u001b[0mloss\u001b[0m\u001b[1;33m.\u001b[0m\u001b[0mitem\u001b[0m\u001b[1;33m(\u001b[0m\u001b[1;33m)\u001b[0m \u001b[1;33m*\u001b[0m \u001b[0minputs\u001b[0m\u001b[1;33m.\u001b[0m\u001b[0msize\u001b[0m\u001b[1;33m(\u001b[0m\u001b[1;36m0\u001b[0m\u001b[1;33m)\u001b[0m\u001b[1;33m\u001b[0m\u001b[1;33m\u001b[0m\u001b[0m\n\u001b[0m\u001b[0;32m     35\u001b[0m                 \u001b[0mrunning_corrects\u001b[0m \u001b[1;33m+=\u001b[0m \u001b[0mtorch\u001b[0m\u001b[1;33m.\u001b[0m\u001b[0msum\u001b[0m\u001b[1;33m(\u001b[0m\u001b[0mpreds\u001b[0m\u001b[1;33m.\u001b[0m\u001b[0mview\u001b[0m\u001b[1;33m(\u001b[0m\u001b[1;33m-\u001b[0m\u001b[1;36m1\u001b[0m\u001b[1;33m)\u001b[0m \u001b[1;33m==\u001b[0m \u001b[0mlabels\u001b[0m\u001b[1;33m.\u001b[0m\u001b[0mview\u001b[0m\u001b[1;33m(\u001b[0m\u001b[1;33m-\u001b[0m\u001b[1;36m1\u001b[0m\u001b[1;33m)\u001b[0m\u001b[1;33m)\u001b[0m\u001b[1;33m.\u001b[0m\u001b[0mitem\u001b[0m\u001b[1;33m(\u001b[0m\u001b[1;33m)\u001b[0m\u001b[1;33m\u001b[0m\u001b[1;33m\u001b[0m\u001b[0m\n\u001b[0;32m     36\u001b[0m \u001b[1;33m\u001b[0m\u001b[0m\n",
      "\u001b[1;31mKeyboardInterrupt\u001b[0m: "
     ]
    }
   ],
   "source": [
    "# Use Pretrained model\n",
    "\n",
    "model_ft = initialize_model(model_name, num_classes, feature_extract, use_pretrained=True)\n",
    "\n",
    "model_ft = model_ft.to(device)\n",
    "\n",
    "loss_fn = nn.CrossEntropyLoss()\n",
    "\n",
    "_, acc_hist, loss_hist, err_hist, lr_hist = train_model(model_ft, dataloaders_dict, loss_fn, lr=0.1, num_epochs=num_epochs) \n",
    "# return model, val_acc_history, val_loss_history, val_error, lr_history"
   ]
  },
  {
   "cell_type": "code",
   "execution_count": 15,
   "metadata": {},
   "outputs": [
    {
     "ename": "KeyboardInterrupt",
     "evalue": "",
     "output_type": "error",
     "traceback": [
      "\u001b[1;31m---------------------------------------------------------------------------\u001b[0m",
      "\u001b[1;31mKeyboardInterrupt\u001b[0m                         Traceback (most recent call last)",
      "\u001b[1;32m<ipython-input-15-fe7d715087fb>\u001b[0m in \u001b[0;36m<module>\u001b[1;34m\u001b[0m\n\u001b[0;32m      7\u001b[0m \u001b[0mloss_fn\u001b[0m \u001b[1;33m=\u001b[0m \u001b[0mnn\u001b[0m\u001b[1;33m.\u001b[0m\u001b[0mCrossEntropyLoss\u001b[0m\u001b[1;33m(\u001b[0m\u001b[1;33m)\u001b[0m\u001b[1;33m\u001b[0m\u001b[1;33m\u001b[0m\u001b[0m\n\u001b[0;32m      8\u001b[0m \u001b[1;33m\u001b[0m\u001b[0m\n\u001b[1;32m----> 9\u001b[1;33m \u001b[0m_\u001b[0m\u001b[1;33m,\u001b[0m \u001b[0msacc_hist\u001b[0m\u001b[1;33m,\u001b[0m \u001b[0msloss_hist\u001b[0m\u001b[1;33m,\u001b[0m \u001b[0mserr_hist\u001b[0m\u001b[1;33m,\u001b[0m \u001b[0mslr_hist\u001b[0m  \u001b[1;33m=\u001b[0m \u001b[0mtrain_model\u001b[0m\u001b[1;33m(\u001b[0m\u001b[0mmodel_scratch\u001b[0m\u001b[1;33m,\u001b[0m \u001b[0mdataloaders_dict\u001b[0m\u001b[1;33m,\u001b[0m \u001b[0mloss_fn\u001b[0m\u001b[1;33m,\u001b[0m \u001b[0mlr\u001b[0m\u001b[1;33m=\u001b[0m\u001b[1;36m0.1\u001b[0m\u001b[1;33m,\u001b[0m \u001b[0mnum_epochs\u001b[0m\u001b[1;33m=\u001b[0m\u001b[0mnum_epochs\u001b[0m\u001b[1;33m)\u001b[0m\u001b[1;33m\u001b[0m\u001b[1;33m\u001b[0m\u001b[0m\n\u001b[0m",
      "\u001b[1;32m<ipython-input-14-5d3dbe231702>\u001b[0m in \u001b[0;36mtrain_model\u001b[1;34m(model, dataloaders, loss_fn, lr, num_epochs)\u001b[0m\n\u001b[0;32m     32\u001b[0m                     \u001b[0moptimizer\u001b[0m\u001b[1;33m.\u001b[0m\u001b[0mstep\u001b[0m\u001b[1;33m(\u001b[0m\u001b[1;33m)\u001b[0m\u001b[1;33m\u001b[0m\u001b[1;33m\u001b[0m\u001b[0m\n\u001b[0;32m     33\u001b[0m \u001b[1;33m\u001b[0m\u001b[0m\n\u001b[1;32m---> 34\u001b[1;33m                 \u001b[0mrunning_loss\u001b[0m \u001b[1;33m+=\u001b[0m \u001b[0mloss\u001b[0m\u001b[1;33m.\u001b[0m\u001b[0mitem\u001b[0m\u001b[1;33m(\u001b[0m\u001b[1;33m)\u001b[0m \u001b[1;33m*\u001b[0m \u001b[0minputs\u001b[0m\u001b[1;33m.\u001b[0m\u001b[0msize\u001b[0m\u001b[1;33m(\u001b[0m\u001b[1;36m0\u001b[0m\u001b[1;33m)\u001b[0m\u001b[1;33m\u001b[0m\u001b[1;33m\u001b[0m\u001b[0m\n\u001b[0m\u001b[0;32m     35\u001b[0m                 \u001b[0mrunning_corrects\u001b[0m \u001b[1;33m+=\u001b[0m \u001b[0mtorch\u001b[0m\u001b[1;33m.\u001b[0m\u001b[0msum\u001b[0m\u001b[1;33m(\u001b[0m\u001b[0mpreds\u001b[0m\u001b[1;33m.\u001b[0m\u001b[0mview\u001b[0m\u001b[1;33m(\u001b[0m\u001b[1;33m-\u001b[0m\u001b[1;36m1\u001b[0m\u001b[1;33m)\u001b[0m \u001b[1;33m==\u001b[0m \u001b[0mlabels\u001b[0m\u001b[1;33m.\u001b[0m\u001b[0mview\u001b[0m\u001b[1;33m(\u001b[0m\u001b[1;33m-\u001b[0m\u001b[1;36m1\u001b[0m\u001b[1;33m)\u001b[0m\u001b[1;33m)\u001b[0m\u001b[1;33m.\u001b[0m\u001b[0mitem\u001b[0m\u001b[1;33m(\u001b[0m\u001b[1;33m)\u001b[0m\u001b[1;33m\u001b[0m\u001b[1;33m\u001b[0m\u001b[0m\n\u001b[0;32m     36\u001b[0m \u001b[1;33m\u001b[0m\u001b[0m\n",
      "\u001b[1;31mKeyboardInterrupt\u001b[0m: "
     ]
    }
   ],
   "source": [
    "# Not Use Pretrained model\n",
    "\n",
    "model_scratch = initialize_model(model_name, num_classes, feature_extract=False, use_pretrained=False)\n",
    "\n",
    "model_scratch = model_scratch.to(device)\n",
    "\n",
    "loss_fn = nn.CrossEntropyLoss()\n",
    "\n",
    "_, sacc_hist, sloss_hist, serr_hist, slr_hist  = train_model(model_scratch, dataloaders_dict, loss_fn, lr=0.1, num_epochs=num_epochs)"
   ]
  },
  {
   "cell_type": "code",
   "execution_count": 15,
   "metadata": {},
   "outputs": [
    {
     "data": {
      "image/png": "[encoded data removed]",
      "text/plain": [
       "<Figure size 432x288 with 1 Axes>"
      ]
     },
     "metadata": {
      "needs_background": "light"
     },
     "output_type": "display_data"
    }
   ],
   "source": [
    "#  Plot the training curves of validation accuracy vs. number \n",
    "#  of training epochs for the transfer learning method and\n",
    "#  the model trained from scratch\n",
    "\n",
    "plt.title(\"Validation Accuracy vs. Number of Training Epochs\")\n",
    "plt.xlabel(\"Training Epochs\")\n",
    "plt.ylabel(\"Validation Accuracy\")\n",
    "\n",
    "plt.plot(range(1,num_epochs+1),acc_hist,label=\"Pretrained\")\n",
    "plt.plot(range(1,num_epochs+1),sacc_hist,label=\"Scratch\")\n",
    "plt.ylim((0.3,0.8))\n",
    "plt.xticks(np.arange(0, num_epochs+1, 10))\n",
    "plt.legend()\n",
    "plt.show()"
   ]
  },
  {
   "cell_type": "code",
   "execution_count": 17,
   "metadata": {},
   "outputs": [
    {
     "data": {
      "image/png": "[encoded data removed]",
      "text/plain": [
       "<Figure size 432x288 with 1 Axes>"
      ]
     },
     "metadata": {
      "needs_background": "light"
     },
     "output_type": "display_data"
    }
   ],
   "source": [
    "#  Plot the training curves of validation accuracy vs. number \n",
    "#  of training epochs for the transfer learning method and\n",
    "#  the model trained from scratch\n",
    "plt.title(\"Validation Accuracy vs. Number of Training Epochs\")\n",
    "plt.xlabel(\"Training Epochs\")\n",
    "plt.ylabel(\"Validation Accuracy\")\n",
    "\n",
    "plt.plot(range(1,num_epochs+1),loss_hist,label=\"er_hist\")\n",
    "plt.plot(range(1,num_epochs+1),sloss_hist,label=\"ser_hist\")\n",
    "plt.ylim(0,20)\n",
    "plt.xticks(np.arange(0, num_epochs+1, 10))\n",
    "plt.legend()\n",
    "plt.show()"
   ]
  },
  {
   "cell_type": "code",
   "execution_count": 21,
   "metadata": {},
   "outputs": [
    {
     "data": {
      "image/png": "[encoded data removed]",
      "text/plain": [
       "<Figure size 432x288 with 1 Axes>"
      ]
     },
     "metadata": {
      "needs_background": "light"
     },
     "output_type": "display_data"
    }
   ],
   "source": [
    "#  Plot the training curves of validation accuracy vs. number \n",
    "#  of training epochs for the transfer learning method and\n",
    "#  the model trained from scratch\n",
    "plt.title(\"Validation Accuracy vs. Number of Training Epochs\")\n",
    "plt.xlabel(\"Training Epochs\")\n",
    "plt.ylabel(\"Validation Accuracy\")\n",
    "\n",
    "plt.plot(range(1,num_epochs+1),err_hist,label=\"lr_hist\")\n",
    "plt.plot(range(1,num_epochs+1),serr_hist,label=\"slr_hist\")\n",
    "plt.ylim((0.2,0.8))\n",
    "plt.xticks(np.arange(0, num_epochs+1, 10))\n",
    "plt.legend()\n",
    "plt.show()"
   ]
  },
  {
   "cell_type": "code",
   "execution_count": 22,
   "metadata": {},
   "outputs": [
    {
     "data": {
      "image/png": "[encoded data removed]",
      "text/plain": [
       "<Figure size 432x288 with 1 Axes>"
      ]
     },
     "metadata": {
      "needs_background": "light"
     },
     "output_type": "display_data"
    }
   ],
   "source": [
    "plt.title(\"Validation Accuracy vs. Number of Training Epochs\")\n",
    "plt.xlabel(\"Training Epochs\")\n",
    "plt.ylabel(\"Validation Accuracy\")\n",
    "\n",
    "plt.plot(range(1,num_epochs+1),lr_hist,label=\"Pretrained\")\n",
    "plt.plot(range(1,num_epochs+1),slr_hist,label=\"Scratch\")\n",
    "plt.ylim((0,0.101))\n",
    "plt.xticks(np.arange(0, num_epochs+1, 10))\n",
    "plt.legend()\n",
    "plt.show()"
   ]
  }
 ],
 "metadata": {
  "kernelspec": {
   "display_name": "Python 3",
   "language": "python",
   "name": "python3"
  },
  "language_info": {
   "codemirror_mode": {
    "name": "ipython",
    "version": 3
   },
   "file_extension": ".py",
   "mimetype": "text/x-python",
   "name": "python",
   "nbconvert_exporter": "python",
   "pygments_lexer": "ipython3",
   "version": "3.7.6"
  }
 },
 "nbformat": 4,
 "nbformat_minor": 4
}
